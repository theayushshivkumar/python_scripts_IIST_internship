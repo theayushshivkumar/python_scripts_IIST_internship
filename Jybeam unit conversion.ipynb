{
 "cells": [
  {
   "cell_type": "code",
   "execution_count": 2,
   "id": "fcab07bb",
   "metadata": {},
   "outputs": [
    {
     "name": "stdout",
     "output_type": "stream",
     "text": [
      "[[ 0.0000000e+00  0.0000000e+00  0.0000000e+00 ...  0.0000000e+00\n",
      "   0.0000000e+00  0.0000000e+00]\n",
      " [ 5.0304748e-02 -1.2907085e-02  1.6431820e-01 ... -1.0091618e+00\n",
      "   4.7963729e+00  2.8706162e+00]\n",
      " [ 8.0394715e-02  7.4081562e-02  5.5119988e-02 ... -1.4361238e-05\n",
      "  -7.3033786e-01  8.7946013e-02]\n",
      " ...\n",
      " [-6.3130222e-02  7.5166173e-02  1.2543447e-01 ... -8.7864697e-01\n",
      "  -9.0714671e-02  4.8183352e-01]\n",
      " [ 1.0294353e-02 -1.2701985e-01  1.2967290e-01 ...  5.5707568e-01\n",
      "  -1.7045225e-01 -6.0132228e-02]\n",
      " [ 0.0000000e+00  0.0000000e+00  0.0000000e+00 ...  0.0000000e+00\n",
      "   0.0000000e+00  0.0000000e+00]]\n"
     ]
    }
   ],
   "source": [
    "import numpy as np\n",
    "from astropy.io import fits\n",
    "import math\n",
    "\n",
    "file = fits.open(r\"C:\\Users\\Ayush Shivkumar\\OneDrive\\Desktop\\IIST\\Books & Material\\LEVEL 2_5 Everything 13072003\\ATLASGAL13_5.fits\")\n",
    "\n",
    "beam_maj = 5.061775000E-03 # in degrees\n",
    "beam_min = 5.061775000E-03 # in degrees\n",
    "\n",
    "pixel_size = 0.00166667 # in degrees\n",
    "\n",
    "data = file[0].data\n",
    "header = file[0].header\n",
    "print(data)\n",
    "\n",
    "file_unit = header[\"BUNIT\"]\n",
    "\n",
    "if file_unit == 'Jy/beam':\n",
    "    \n",
    "    conversion_factor = (((np.pi * beam_maj * beam_min)/(4 * math.log(2))) / (pixel_size**2))\n",
    "    \n",
    "    data = data / conversion_factor\n",
    "   \n",
    "    header['BUNIT'] = 'Jy/pixel'\n",
    "    \n",
    "    file_conv = fits.PrimaryHDU(data = data, header = header)\n",
    "    \n",
    "    hdul_file_conv = fits.HDUList([file_conv])\n",
    "    \n",
    "    hdul_file_conv.writeto(r\"C:\\Users\\Ayush Shivkumar\\OneDrive\\Desktop\\IIST\\Books & Material\\LEVEL 2_5 Everything 13072003\\ATLASGAL_unitconv.fits\", overwrite = True)\n",
    "    \n",
    "    "
   ]
  },
  {
   "cell_type": "code",
   "execution_count": null,
   "id": "355a02b1",
   "metadata": {},
   "outputs": [],
   "source": []
  }
 ],
 "metadata": {
  "kernelspec": {
   "display_name": "Python 3 (ipykernel)",
   "language": "python",
   "name": "python3"
  },
  "language_info": {
   "codemirror_mode": {
    "name": "ipython",
    "version": 3
   },
   "file_extension": ".py",
   "mimetype": "text/x-python",
   "name": "python",
   "nbconvert_exporter": "python",
   "pygments_lexer": "ipython3",
   "version": "3.11.7"
  }
 },
 "nbformat": 4,
 "nbformat_minor": 5
}
